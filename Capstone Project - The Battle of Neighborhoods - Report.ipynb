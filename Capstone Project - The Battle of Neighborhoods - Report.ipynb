{
 "cells": [
  {
   "cell_type": "markdown",
   "metadata": {},
   "source": [
    "# Project Report : Location recommandation for a Pub in Zürich\n",
    "**Capstone Project - The Battle of Neighborhoods (Week 1)** \\\n",
    "Author: Dana Mozaffari\\\n",
    "Date: 16/02/2021"
   ]
  },
  {
   "cell_type": "markdown",
   "metadata": {},
   "source": [
    "## Introduction"
   ]
  },
  {
   "cell_type": "markdown",
   "metadata": {},
   "source": [
    "### Background "
   ]
  },
  {
   "cell_type": "markdown",
   "metadata": {},
   "source": [
    "Zürich is the largest city in Switzerland, with at over one million residents in 2019. One of the most dynamic and modern cities of the country, Zürich is also a youthful higher-education hub, with its two world-class universities ETH Zürich and Zürich University, and 37% of the population aged between 19 and 39 years old."
   ]
  },
  {
   "cell_type": "markdown",
   "metadata": {},
   "source": [
    "### Problem "
   ]
  },
  {
   "cell_type": "markdown",
   "metadata": {},
   "source": [
    "As a city experiencing fast growth, Zürich also sees its nightlife scene evolving with a rise in the number of food & beverage establishments but it still lacks behind compared to other large European centers.\n",
    "\n",
    "To satisfy its young population growth the demand in such etablishments, as bars, pubs, beer gardens etc. must be met, especially in areas of the city where these are underrepresented with respect to the young residents.\n",
    "\n",
    "The COVID-19 pandemic has also greatly impacted this industry with the restrictions imposed on social gatherings. It is expected that an improvement of the situation and of the weather will create a high demand for such venues."
   ]
  },
  {
   "cell_type": "markdown",
   "metadata": {},
   "source": [
    "### Interests"
   ]
  },
  {
   "cell_type": "markdown",
   "metadata": {},
   "source": [
    "Pub companies interested to extend their market presence in Zürich need to know which areas they would be the most successful. In addition to those, individuals wishing to start their own business might also have an interest in this analysis.\n",
    "\n",
    "This is also especially relevant in a post-COVID-19 context, where students and young workers will aspire to get back to a \"normal\" lifestyle and demand for nighlife establishments will increase."
   ]
  },
  {
   "cell_type": "markdown",
   "metadata": {},
   "source": [
    "### Objective"
   ]
  },
  {
   "cell_type": "markdown",
   "metadata": {},
   "source": [
    "The goal of this project is to provide insights on the presence of the bars industry in the city of Zürich, based on its different areas. This information will be used in addition to the age structure within these areas to cluster those using unsupervised machine learning, which will allow to get a better understanding about the ideal locations for the establishement of a new bar in Zürich."
   ]
  },
  {
   "cell_type": "markdown",
   "metadata": {},
   "source": [
    "## Data acquisition and cleaning"
   ]
  },
  {
   "cell_type": "markdown",
   "metadata": {},
   "source": [
    "### Data sources"
   ]
  },
  {
   "cell_type": "markdown",
   "metadata": {},
   "source": [
    "**Venues locations** The main data source for this project is the [Foursquare's venues API](https://developer.foursquare.com/docs/places-api/) for location data of venues in Zürich. Foursquare provides access to an extensive catalog of venues' location grouped by categories.\n",
    "\n",
    "**Geographical maps data** Geographical coordinates for the divisions and sub-divisions of the city of Zürich will be retrieved from the [Open Data Portal](https://data.stadt-zuerich.ch/)'s catalog of the city. Those divisions will be detailed in the next sections\n",
    "\n",
    "**Population statistics data** The same [Open Data Portal](https://data.stadt-zuerich.ch/) of the city of Zürich will be used to obtain statistical data about its inhabitants, including the repartition of the population within the areas mentionned above as well as the age structure of these."
   ]
  }
 ],
 "metadata": {
  "kernelspec": {
   "display_name": "Python 3",
   "language": "python",
   "name": "python3"
  },
  "language_info": {
   "codemirror_mode": {
    "name": "ipython",
    "version": 3
   },
   "file_extension": ".py",
   "mimetype": "text/x-python",
   "name": "python",
   "nbconvert_exporter": "python",
   "pygments_lexer": "ipython3",
   "version": "3.8.3"
  },
  "toc": {
   "base_numbering": "1",
   "nav_menu": {},
   "number_sections": true,
   "sideBar": true,
   "skip_h1_title": true,
   "title_cell": "Table of Contents",
   "title_sidebar": "Contents",
   "toc_cell": false,
   "toc_position": {
    "height": "calc(100% - 180px)",
    "left": "10px",
    "top": "150px",
    "width": "228.2px"
   },
   "toc_section_display": true,
   "toc_window_display": true
  },
  "varInspector": {
   "cols": {
    "lenName": 16,
    "lenType": 16,
    "lenVar": 40
   },
   "kernels_config": {
    "python": {
     "delete_cmd_postfix": "",
     "delete_cmd_prefix": "del ",
     "library": "var_list.py",
     "varRefreshCmd": "print(var_dic_list())"
    },
    "r": {
     "delete_cmd_postfix": ") ",
     "delete_cmd_prefix": "rm(",
     "library": "var_list.r",
     "varRefreshCmd": "cat(var_dic_list()) "
    }
   },
   "types_to_exclude": [
    "module",
    "function",
    "builtin_function_or_method",
    "instance",
    "_Feature"
   ],
   "window_display": false
  }
 },
 "nbformat": 4,
 "nbformat_minor": 4
}
